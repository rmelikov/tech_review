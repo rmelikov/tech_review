{
 "cells": [
  {
   "cell_type": "markdown",
   "source": [
    "# TF/IDF with KNIME"
   ],
   "metadata": {
    "collapsed": false
   }
  },
  {
   "cell_type": "markdown",
   "source": [
    "In this tech review, I am going to show how to compute TF/IDF with KNIME. KNIME is a drag-n-drop advanced analytics platform. More at KNIME.com"
   ],
   "metadata": {
    "collapsed": false
   }
  },
  {
   "cell_type": "markdown",
   "source": [
    "KNIME Desktop is a free software. It can do all of the analytics that one might need to do."
   ],
   "metadata": {
    "collapsed": false
   }
  },
  {
   "cell_type": "markdown",
   "source": [
    "In this demo, I am going to show how to parse documents (resumes) and compute TF/IDF."
   ],
   "metadata": {
    "collapsed": false
   }
  },
  {
   "cell_type": "markdown",
   "source": [
    "I have a folder with resumes in it that looks like this:"
   ],
   "metadata": {
    "collapsed": false
   }
  },
  {
   "cell_type": "markdown",
   "source": [
    "![](resumes.png)"
   ],
   "metadata": {
    "collapsed": false
   }
  },
  {
   "cell_type": "markdown",
   "source": [
    "You can see that we have 20 documents: `.MSG`, `.DOC`, `.DOCX`, and `.PDF`."
   ],
   "metadata": {
    "collapsed": false
   }
  },
  {
   "cell_type": "markdown",
   "source": [
    "First, we start with a blank workbench."
   ],
   "metadata": {
    "collapsed": false
   }
  },
  {
   "cell_type": "markdown",
   "source": [
    "![](workbench.png)"
   ],
   "metadata": {
    "collapsed": false
   }
  },
  {
   "cell_type": "markdown",
   "source": [
    "We want to parse all of our documents at once. In KNIME, there is a processing node called `Tika Parser`. We can drop it into our workbench."
   ],
   "metadata": {
    "collapsed": false
   }
  },
  {
   "cell_type": "markdown",
   "source": [
    "![](tika.png)"
   ],
   "metadata": {
    "collapsed": false
   }
  },
  {
   "cell_type": "markdown",
   "source": [
    "The next step is to specify where the documents are. For that, we right-click, click `Configure`, then click on `Browse`, then navigate to the folder where the documents are and click `OK`. After that, right-click on the node and click execute. You will see that the yellow collor under the node will turn to green."
   ],
   "metadata": {
    "collapsed": false
   }
  },
  {
   "cell_type": "markdown",
   "source": [
    "![](tika2.png)"
   ],
   "metadata": {
    "collapsed": false
   }
  },
  {
   "cell_type": "markdown",
   "source": [
    "If we'll right-click on the node again, and if we'll click on `Metadata output table`, we'll see a table with parsed data. The last column, `Content`, contains the actual document data."
   ],
   "metadata": {
    "collapsed": false
   }
  },
  {
   "cell_type": "markdown",
   "source": [
    "![](document.png)"
   ],
   "metadata": {
    "collapsed": false
   }
  },
  {
   "cell_type": "markdown",
   "source": [
    "You can see that each cell in the `Content` column is a blob of text that contains resume data."
   ],
   "metadata": {
    "collapsed": false
   }
  },
  {
   "cell_type": "markdown",
   "source": [
    "Here is the final workflow so that we can see what we are trying to accomplish:"
   ],
   "metadata": {
    "collapsed": false
   }
  },
  {
   "cell_type": "markdown",
   "source": [
    "![](final.png)"
   ],
   "metadata": {
    "collapsed": false
   }
  },
  {
   "cell_type": "markdown",
   "source": [
    "From the `Tika Parser` node, we are going to the `Strings To Document` node. This is needed because we have to feed a document to the `BoW` node. This is the way KNIME works. When we right-click on the `BoW` node and click on `Documents Output Table`, we can see that our row count is now in thousands because for each term in a document we have a row."
   ],
   "metadata": {
    "collapsed": false
   }
  },
  {
   "cell_type": "markdown",
   "source": [
    "![](bow.png)"
   ],
   "metadata": {
    "collapsed": false
   }
  },
  {
   "cell_type": "markdown",
   "source": [
    "We then use the nodes `Punctuation Erasure`, `Case Converter`, and `Stop Word Filter` to do what we have learn in our lectures when we were working with tokenizers."
   ],
   "metadata": {
    "collapsed": false
   }
  },
  {
   "cell_type": "markdown",
   "source": [
    "The next node is a `Term Grouper` node. This node groups all terms of a document by their text and deletes all tags."
   ],
   "metadata": {
    "collapsed": false
   }
  },
  {
   "cell_type": "markdown",
   "source": [
    "The final 3 nodes are `TF`, `IDF`, and `Java Snippet`. All 3 nodes compute a column for our table. The last node computes a product of `TF` * `IDF`."
   ],
   "metadata": {
    "collapsed": false
   }
  },
  {
   "cell_type": "markdown",
   "source": [
    "When we right-click on the `Java Snippet` node and click on `Appended Table`, we see the following table:"
   ],
   "metadata": {
    "collapsed": false
   }
  },
  {
   "cell_type": "markdown",
   "source": [
    "![](tfidf.png)"
   ],
   "metadata": {
    "collapsed": false
   }
  },
  {
   "cell_type": "markdown",
   "source": [
    "We can see that KNIME has computed what we needed."
   ],
   "metadata": {
    "collapsed": false
   }
  },
  {
   "cell_type": "markdown",
   "source": [
    "This concludes our demo."
   ],
   "metadata": {
    "collapsed": false
   }
  }
 ],
 "metadata": {
  "kernelspec": {
   "display_name": "Python 3",
   "language": "python",
   "name": "python3"
  },
  "language_info": {
   "codemirror_mode": {
    "name": "ipython",
    "version": 3
   },
   "file_extension": ".py",
   "mimetype": "text/x-python",
   "name": "python",
   "nbconvert_exporter": "python",
   "pygments_lexer": "ipython3",
   "version": "3.6.12"
  }
 },
 "nbformat": 4,
 "nbformat_minor": 1
}